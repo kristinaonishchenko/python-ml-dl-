{
  "nbformat": 4,
  "nbformat_minor": 0,
  "metadata": {
    "colab": {
      "provenance": [],
      "collapsed_sections": [
        "P7kqThRsGw1S",
        "eh9SR61aGw5U"
      ],
      "include_colab_link": true
    },
    "kernelspec": {
      "display_name": "Python 3",
      "language": "python",
      "name": "python3"
    },
    "language_info": {
      "codemirror_mode": {
        "name": "ipython",
        "version": 3
      },
      "file_extension": ".py",
      "mimetype": "text/x-python",
      "name": "python",
      "nbconvert_exporter": "python",
      "pygments_lexer": "ipython3",
      "version": "3.6.5"
    }
  },
  "cells": [
    {
      "cell_type": "markdown",
      "metadata": {
        "id": "view-in-github",
        "colab_type": "text"
      },
      "source": [
        "<a href=\"https://colab.research.google.com/github/kristinaonishchenko/python-ml-dl-/blob/main/%D0%9A%D0%BE%D0%BF%D0%B8%D1%8F_%D0%B1%D0%BB%D0%BE%D0%BA%D0%BD%D0%BE%D1%82%D0%B0_%22%5Bsem_solution%5Dpython_basics_ipynb%22.ipynb\" target=\"_parent\"><img src=\"https://colab.research.google.com/assets/colab-badge.svg\" alt=\"Open In Colab\"/></a>"
      ]
    },
    {
      "cell_type": "markdown",
      "metadata": {
        "id": "1oGBdbb2Gwy9"
      },
      "source": [
        "<p style=\"align: center;\"><img align=center src=\"https://s8.hostingkartinok.com/uploads/images/2018/08/308b49fcfbc619d629fe4604bceb67ac.jpg\"  width=500/></p>\n",
        "\n",
        "<h3 style=\"text-align: center;\"><b>Физтех-Школа Прикладной математики и информатики (ФПМИ) МФТИ</b></h3>"
      ]
    },
    {
      "cell_type": "code",
      "source": [],
      "metadata": {
        "id": "VpSlfy5QK8F8"
      },
      "execution_count": null,
      "outputs": []
    },
    {
      "cell_type": "markdown",
      "metadata": {
        "id": "eOivSghfGwy-"
      },
      "source": [
        "<h2 style=\"text-align: center;\"><b>Python. Занятие 1: Основы</b></h2>"
      ]
    },
    {
      "cell_type": "markdown",
      "metadata": {
        "id": "_kqD6lQ7GwzA"
      },
      "source": [
        "<img align=left src=\"https://cdn.fedoramagazine.org/wp-content/uploads/2015/11/Python_logo.png\" style=\"height:160px;\" />\n",
        "\n",
        "<img align=center src=\"https://1.bp.blogspot.com/-16utHnlB3Ao/V4tpG8NBX0I/AAAAAAAAA7M/vDQ1p40JpE8M34eCr-UdriSV04Dn8au7QCLcB/s1600/jupyter-logo.png\" style=\"height:90px;\" />"
      ]
    },
    {
      "cell_type": "markdown",
      "metadata": {
        "id": "wBxC0NK1GwzB"
      },
      "source": [
        "---"
      ]
    },
    {
      "cell_type": "markdown",
      "metadata": {
        "id": "iKkG2y23GwzC"
      },
      "source": [
        "Перед тем как начать складывать уровни нейросеточек как блинчики или предсказывать кредитоспособность клиентов, нужно быть хорошо знакомым с нужными библиотеками и языком, на котором они написаны. \n",
        "В нашем курсе мы будем использовать язык **Python**, так как он является оптимальным сочетанием простоты, силы и количества полезных библиотек, написанных для него. "
      ]
    },
    {
      "cell_type": "markdown",
      "metadata": {
        "id": "LYwDm-Y7GwzD"
      },
      "source": [
        "На этом занятии мы научимся писать программы на Python, изучив его основы.  \n",
        "\n",
        "На завтрашнем занятии мы узнаем, как писать производительный код с помощью библиотеки NumPy и как научиться строить графики с помощью библиотеки Matplotlib."
      ]
    },
    {
      "cell_type": "markdown",
      "metadata": {
        "id": "qoHHrmtJGwzG"
      },
      "source": [
        "## Основы Python"
      ]
    },
    {
      "cell_type": "markdown",
      "metadata": {
        "id": "EpMCDIheGwzH"
      },
      "source": [
        "Сейчас существуют две часто используемые версии Питона — **Python 2** и **Python 3**. Эти версии довольно похожи, но есть отличия, из-за которых они **не являются совместимыми** - программы, написанные на одной версии языка, могут не работать в другой.  \n",
        "\n",
        "В нашем курсе мы будем писать на **Python 3**. Точная версия не принципиальна, но она должна быть >= 3.5  \n",
        "\n",
        "Если Вы пользуетесь каким-либо из дистрибутивов Linux, то Python скорее всего уже установлен.\n",
        "Попробуйте в терминале следующие команды для запуска интерактивного режима работы:\n",
        "\n",
        "`python` или `python3` или `python2`\n",
        "\n",
        "Выход: `Ctrl+D`\n",
        "\n",
        "Режим работы, в котором выполнится код из файла main.py\n",
        "\n",
        "`python main.py`\n",
        "\n",
        "Помощь: **`help(X)`**, где `X` — то, по чему нужна помощь.  \n",
        "Выход из помощи: `q`."
      ]
    },
    {
      "cell_type": "markdown",
      "metadata": {
        "id": "JlUbz5X4GwzH"
      },
      "source": [
        "<img align=center src=\"http://images7.memedroid.com/images/UPLOADED973/596e4c96650e5.jpeg\" style=\"height:400px;\"/>"
      ]
    },
    {
      "cell_type": "markdown",
      "metadata": {
        "id": "8N0y9NugGwzI"
      },
      "source": [
        "## Общая информация о языке\n",
        "\n",
        "**Название** - **«Питон» или «Пайтон»** (в честь комедийных серий BBC «Летающий цирк Монти-Пайтона»)  \n",
        "**Создатель** - **голландец Гвидо ван Россум (Guido van Rossum)** (в 1991 году)  \n",
        "\n",
        "**Особенности**:  \n",
        "- интерпретируемый\n",
        "- объектно-ориентированный\n",
        "- высокоуровневый язык\n",
        "- встроенные высокоуровневые структуры данных\n",
        "- динамическая типизация\n",
        "- синтаксис прост в изучении\n",
        "- поддержка модулей и пакетов (большинство библиотек\n",
        "бесплатны)\n",
        "- универсальный\n",
        "- интеграция с другими языками (C (Cython), C++, Java (JPython))  \n",
        "\n",
        "**Стиль оформления кода** - **PEP8** (если Вы хороший человек).  \n",
        "\n",
        "*Самое главное из PEP8:*  \n",
        "- отступ – 4 пробела\n",
        "- длина строки < 80 символов\n",
        "- переменные: var_recommended\n",
        "- константы: CONST_RECOMMENDED"
      ]
    },
    {
      "cell_type": "code",
      "metadata": {
        "id": "hmG1eJIjGwzJ",
        "outputId": "180eb0ed-2b74-45e9-f202-1339a77dff1f",
        "colab": {
          "base_uri": "https://localhost:8080/",
          "height": 374
        }
      },
      "source": [
        "import this"
      ],
      "execution_count": null,
      "outputs": [
        {
          "output_type": "stream",
          "text": [
            "The Zen of Python, by Tim Peters\n",
            "\n",
            "Beautiful is better than ugly.\n",
            "Explicit is better than implicit.\n",
            "Simple is better than complex.\n",
            "Complex is better than complicated.\n",
            "Flat is better than nested.\n",
            "Sparse is better than dense.\n",
            "Readability counts.\n",
            "Special cases aren't special enough to break the rules.\n",
            "Although practicality beats purity.\n",
            "Errors should never pass silently.\n",
            "Unless explicitly silenced.\n",
            "In the face of ambiguity, refuse the temptation to guess.\n",
            "There should be one-- and preferably only one --obvious way to do it.\n",
            "Although that way may not be obvious at first unless you're Dutch.\n",
            "Now is better than never.\n",
            "Although never is often better than *right* now.\n",
            "If the implementation is hard to explain, it's a bad idea.\n",
            "If the implementation is easy to explain, it may be a good idea.\n",
            "Namespaces are one honking great idea -- let's do more of those!\n"
          ],
          "name": "stdout"
        }
      ]
    },
    {
      "cell_type": "markdown",
      "metadata": {
        "id": "YfhDEhg_GwzM"
      },
      "source": [
        "## Типы"
      ]
    },
    {
      "cell_type": "markdown",
      "metadata": {
        "id": "PJA-KLzvGwzN"
      },
      "source": [
        "**Все типы данных** в Python относятся к одной из **2-х категорий**: **изменяемые (mutable)** и **неизменяемые (unmutable)**.   \n",
        "\n",
        "*Неизменяемые объекты*:  \n",
        "* числовые данные (int, float), \n",
        "* bool,\n",
        "* None,\n",
        "* символьные строки (class 'str'), \n",
        "* кортежи (tuple).  \n",
        "\n",
        "*Изменяемые объекты*:  \n",
        "* списки (list), \n",
        "* множества (set), \n",
        "* словари (dict).  \n",
        "\n",
        "Вновь определяемые пользователем типы (классы) могут быть определены как неизменяемые или изменяемые. Изменяемость объектов определённого типа является принципиально важной характеристикой, определяющей, может ли объект такого типа **выступать в качестве ключа для словарей (dict)** или нет."
      ]
    },
    {
      "cell_type": "markdown",
      "metadata": {
        "id": "-tXSqvRRGwzN"
      },
      "source": [
        "### int"
      ]
    },
    {
      "cell_type": "code",
      "metadata": {
        "id": "MN-lZNJ4GwzO",
        "outputId": "3dbc773a-4d1b-40c0-db47-639e55b9b849"
      },
      "source": [
        "x = 5\n",
        "\n",
        "print(x, '|', type(x))"
      ],
      "execution_count": null,
      "outputs": [
        {
          "output_type": "stream",
          "text": [
            "5 | <class 'int'>\n"
          ],
          "name": "stdout"
        }
      ]
    },
    {
      "cell_type": "code",
      "metadata": {
        "id": "4fRsWXp7GwzS",
        "outputId": "db4f79de-7946-49c6-943c-851f886e8390"
      },
      "source": [
        "a = 4 + 5\n",
        "b = 4 * 5\n",
        "c = 5 // 4\n",
        "\n",
        "print(a, b, c)"
      ],
      "execution_count": null,
      "outputs": [
        {
          "output_type": "stream",
          "text": [
            "9 20 1\n"
          ],
          "name": "stdout"
        }
      ]
    },
    {
      "cell_type": "code",
      "metadata": {
        "id": "-7yyX2wcGwzV",
        "outputId": "2a251cef-8e27-41d3-c5f3-4dfc64b60586"
      },
      "source": [
        "print( -(5 // 4) )"
      ],
      "execution_count": null,
      "outputs": [
        {
          "output_type": "stream",
          "text": [
            "-1\n"
          ],
          "name": "stdout"
        }
      ]
    },
    {
      "cell_type": "code",
      "metadata": {
        "id": "cKNwlQ9OGwzX",
        "outputId": "46feb930-b44d-4ca7-f92b-0da55fcc8992"
      },
      "source": [
        "print( -5 // 4 )"
      ],
      "execution_count": null,
      "outputs": [
        {
          "output_type": "stream",
          "text": [
            "-2\n"
          ],
          "name": "stdout"
        }
      ]
    },
    {
      "cell_type": "code",
      "metadata": {
        "id": "FnsWAhPMGwza",
        "outputId": "c72fe21b-f970-4288-87e0-e8441d46c57b"
      },
      "source": [
        "x = 5 * 1000000000 * 1000000000 * 10**9 + 1\n",
        "print(x, '|', type(x))"
      ],
      "execution_count": null,
      "outputs": [
        {
          "output_type": "stream",
          "text": [
            "5000000000000000000000000001 | <class 'int'>\n"
          ],
          "name": "stdout"
        }
      ]
    },
    {
      "cell_type": "markdown",
      "metadata": {
        "id": "Hf0cK9ejGwzd"
      },
      "source": [
        "### float"
      ]
    },
    {
      "cell_type": "code",
      "metadata": {
        "id": "IJcKX6iPGwzd"
      },
      "source": [
        "y = 12.345\n",
        "\n",
        "print(y, type(y))"
      ],
      "execution_count": null,
      "outputs": []
    },
    {
      "cell_type": "code",
      "metadata": {
        "id": "qjBbYiC0Gwzg"
      },
      "source": [
        "a = 4.2 + 5.1\n",
        "b = 4.2 * 5.1\n",
        "c = 5.0 / 4.0\n",
        "\n",
        "print(a, b, c)"
      ],
      "execution_count": null,
      "outputs": []
    },
    {
      "cell_type": "code",
      "metadata": {
        "id": "dWjoVU9OGwzj"
      },
      "source": [
        "a = 5\n",
        "b = 4\n",
        "print(float(a) / float(b))"
      ],
      "execution_count": null,
      "outputs": []
    },
    {
      "cell_type": "code",
      "metadata": {
        "id": "ro4_LzARGwzo"
      },
      "source": [
        "print(a / b)"
      ],
      "execution_count": null,
      "outputs": []
    },
    {
      "cell_type": "markdown",
      "metadata": {
        "id": "YFD8l2XuGwzq"
      },
      "source": [
        "### bool"
      ]
    },
    {
      "cell_type": "code",
      "metadata": {
        "id": "f-kwu3wkGwzr"
      },
      "source": [
        "a = True\n",
        "b = False\n",
        "\n",
        "print(a, '|', type(a))\n",
        "\n",
        "print(b, '|', type(b))"
      ],
      "execution_count": null,
      "outputs": []
    },
    {
      "cell_type": "code",
      "metadata": {
        "id": "XOtoJKoOGwzu"
      },
      "source": [
        "print(a + b)\n",
        "print(a + a)\n",
        "print(b + b)"
      ],
      "execution_count": null,
      "outputs": []
    },
    {
      "cell_type": "code",
      "metadata": {
        "id": "bxaoc7p_Gwzw"
      },
      "source": [
        "print(int(a), int(b))"
      ],
      "execution_count": null,
      "outputs": []
    },
    {
      "cell_type": "code",
      "metadata": {
        "id": "moSf59BmGwzz"
      },
      "source": [
        "print(True and False, '\\n')\n",
        "\n",
        "print(True or True, '\\n')\n",
        "\n",
        "print(not False, '\\n')"
      ],
      "execution_count": null,
      "outputs": []
    },
    {
      "cell_type": "markdown",
      "metadata": {
        "id": "sGGkrmM0Gwz1"
      },
      "source": [
        "### None"
      ]
    },
    {
      "cell_type": "code",
      "metadata": {
        "id": "BMIBkyzcGwz6"
      },
      "source": [
        "z = None\n",
        "print(z, '|', type(z))"
      ],
      "execution_count": null,
      "outputs": []
    },
    {
      "cell_type": "code",
      "metadata": {
        "id": "KaBmiMneGwz8"
      },
      "source": [
        "int(z)"
      ],
      "execution_count": null,
      "outputs": []
    },
    {
      "cell_type": "code",
      "metadata": {
        "id": "8k4aCla1Gwz_"
      },
      "source": [
        "if z is None:\n",
        "    z = 'I am None!'\n",
        "z"
      ],
      "execution_count": null,
      "outputs": []
    },
    {
      "cell_type": "markdown",
      "metadata": {
        "id": "r_y-TEM3Gw0A"
      },
      "source": [
        "### str"
      ]
    },
    {
      "cell_type": "markdown",
      "metadata": {
        "id": "NYLe3wFlGw0C"
      },
      "source": [
        "В *python2.7* есть отдельный тип **unicode**. В *python3.5 (и выше)* (который будем использовать мы) всё это включено в тип **str**."
      ]
    },
    {
      "cell_type": "code",
      "metadata": {
        "id": "W5ZhY9r9Gw0C"
      },
      "source": [
        "x = \"abc\"\n",
        "y = 'xyz'\n",
        "print(x, '|', type(x))\n",
        "print(y, '|', type(y))"
      ],
      "execution_count": null,
      "outputs": []
    },
    {
      "cell_type": "code",
      "metadata": {
        "id": "ZVTh7bPjGw0F"
      },
      "source": [
        "a = 'Андрей'\n",
        "b = \"Михайлович\"\n",
        "s = a + \" \" + b\n",
        "print(s)"
      ],
      "execution_count": null,
      "outputs": []
    },
    {
      "cell_type": "code",
      "metadata": {
        "id": "r3L343d5Gw0H"
      },
      "source": [
        "print(a.upper())\n",
        "print(a.lower())"
      ],
      "execution_count": null,
      "outputs": []
    },
    {
      "cell_type": "code",
      "metadata": {
        "id": "YiFvXOaIGw0K"
      },
      "source": [
        "print(len(a))"
      ],
      "execution_count": null,
      "outputs": []
    },
    {
      "cell_type": "code",
      "metadata": {
        "id": "Ii16mZGRGw0N"
      },
      "source": [
        "print(bool(a))\n",
        "print(bool(\"\" + ''))"
      ],
      "execution_count": null,
      "outputs": []
    },
    {
      "cell_type": "code",
      "metadata": {
        "id": "5eSIiAI_Gw0Q"
      },
      "source": [
        "print(a)\n",
        "print(a[0])\n",
        "print(a[1])\n",
        "print(a[0:3])"
      ],
      "execution_count": null,
      "outputs": []
    },
    {
      "cell_type": "code",
      "metadata": {
        "id": "yxSnm0uPGw0S"
      },
      "source": [
        "print(a[0:4:2])"
      ],
      "execution_count": null,
      "outputs": []
    },
    {
      "cell_type": "code",
      "metadata": {
        "id": "kpYdcXQJGw0V"
      },
      "source": [
        "x = 'Роберт Дауни Младший'\n",
        "print(x, type(x))\n",
        "y = x.encode('utf-8')\n",
        "print(y, type(y))\n",
        "z = y.decode('utf-8')\n",
        "print(z, type(z))\n",
        "q = y.decode('cp1251')\n",
        "print(q, type(q))"
      ],
      "execution_count": null,
      "outputs": []
    },
    {
      "cell_type": "markdown",
      "metadata": {
        "id": "knjcsCbVGw0Z"
      },
      "source": [
        "### Метод `split()`:"
      ]
    },
    {
      "cell_type": "code",
      "metadata": {
        "id": "TuEP17vFGw0Z"
      },
      "source": [
        "splitted_line = \"Райгородский Андрей Михайлович\".split(' ')\n",
        "print(splitted_line)"
      ],
      "execution_count": null,
      "outputs": []
    },
    {
      "cell_type": "markdown",
      "metadata": {
        "id": "2mnxxvHxGw0c"
      },
      "source": [
        "### tuple"
      ]
    },
    {
      "cell_type": "code",
      "metadata": {
        "id": "pCgzsWT-Gw0d"
      },
      "source": [
        "t = ('a', 5, 12.345)\n",
        "t"
      ],
      "execution_count": null,
      "outputs": []
    },
    {
      "cell_type": "code",
      "metadata": {
        "id": "dDtHlkzIGw0f"
      },
      "source": [
        "t.append(5)"
      ],
      "execution_count": null,
      "outputs": []
    },
    {
      "cell_type": "code",
      "metadata": {
        "id": "M7cLx8voGw0i"
      },
      "source": [
        "dir(t)"
      ],
      "execution_count": null,
      "outputs": []
    },
    {
      "cell_type": "code",
      "metadata": {
        "id": "g5H4PakiGw0k"
      },
      "source": [
        "t.index('a')"
      ],
      "execution_count": null,
      "outputs": []
    },
    {
      "cell_type": "code",
      "metadata": {
        "id": "p1Um9EKeGw0m"
      },
      "source": [
        "t[2]"
      ],
      "execution_count": null,
      "outputs": []
    },
    {
      "cell_type": "code",
      "metadata": {
        "id": "CIWPvGkiGw0p"
      },
      "source": [
        "m = (1, 2, 3)\n",
        "\n",
        "t + m"
      ],
      "execution_count": null,
      "outputs": []
    },
    {
      "cell_type": "code",
      "metadata": {
        "id": "UbRjhPXgGw0q"
      },
      "source": [
        "t - m"
      ],
      "execution_count": null,
      "outputs": []
    },
    {
      "cell_type": "code",
      "metadata": {
        "id": "HoKY7OS5Gw0t"
      },
      "source": [
        "len(m)"
      ],
      "execution_count": null,
      "outputs": []
    },
    {
      "cell_type": "markdown",
      "metadata": {
        "id": "QrloQ6pcGw0w"
      },
      "source": [
        "#### Поменять переменные местами"
      ]
    },
    {
      "cell_type": "code",
      "metadata": {
        "id": "BP7tJfrwGw0x"
      },
      "source": [
        "a = -5\n",
        "b = 100\n",
        "\n",
        "a, b = b, a\n",
        "\n",
        "print('a:', a, '\\nb:', b)"
      ],
      "execution_count": null,
      "outputs": []
    },
    {
      "cell_type": "markdown",
      "metadata": {
        "id": "woS_SaYrGw00"
      },
      "source": [
        "### Немного про встроенные функции"
      ]
    },
    {
      "cell_type": "markdown",
      "metadata": {
        "id": "RgJU9VTkGw00"
      },
      "source": [
        "В Python есть так называем **магические** (или служебные) методы - они начинаются и заканчиваются на двойное нижнее подчёркивание: \\__len\\__, \\__add\\__ ..."
      ]
    },
    {
      "cell_type": "code",
      "metadata": {
        "id": "68GdSBNSGw01"
      },
      "source": [
        "__builtin__"
      ],
      "execution_count": null,
      "outputs": []
    },
    {
      "cell_type": "markdown",
      "metadata": {
        "id": "NPt6sw70Gw08"
      },
      "source": [
        "Также в Python есть **встроенные** функции и методы, которые являются в некотором смысле универсальными.  \n",
        "Функция `dir()` выводит список всех атрибутов (имён - методы, функции, классы..), которые есть у модуля/класса/объекта:"
      ]
    },
    {
      "cell_type": "markdown",
      "metadata": {
        "id": "RA8Q3ptXGw09"
      },
      "source": [
        "Давайте посмотрим на встроенные и служебные имена Python (не все):"
      ]
    },
    {
      "cell_type": "code",
      "metadata": {
        "id": "v3u4Ga2QGw1A"
      },
      "source": [
        "dir(__builtin__)"
      ],
      "execution_count": null,
      "outputs": []
    },
    {
      "cell_type": "markdown",
      "metadata": {
        "id": "3w6SCqq2Gw1D"
      },
      "source": [
        "---\n",
        "### Задание 1\n",
        "\n",
        "Выведите список атрибутов класса Exception."
      ]
    },
    {
      "cell_type": "code",
      "metadata": {
        "id": "JvOx73jRGw1F",
        "outputId": "ed939cdd-ea4e-4048-974f-d6b75f9602ca"
      },
      "source": [
        "dir(Exception)"
      ],
      "execution_count": null,
      "outputs": [
        {
          "output_type": "execute_result",
          "data": {
            "text/plain": [
              "['__cause__',\n",
              " '__class__',\n",
              " '__context__',\n",
              " '__delattr__',\n",
              " '__dict__',\n",
              " '__dir__',\n",
              " '__doc__',\n",
              " '__eq__',\n",
              " '__format__',\n",
              " '__ge__',\n",
              " '__getattribute__',\n",
              " '__gt__',\n",
              " '__hash__',\n",
              " '__init__',\n",
              " '__init_subclass__',\n",
              " '__le__',\n",
              " '__lt__',\n",
              " '__ne__',\n",
              " '__new__',\n",
              " '__reduce__',\n",
              " '__reduce_ex__',\n",
              " '__repr__',\n",
              " '__setattr__',\n",
              " '__setstate__',\n",
              " '__sizeof__',\n",
              " '__str__',\n",
              " '__subclasshook__',\n",
              " '__suppress_context__',\n",
              " '__traceback__',\n",
              " 'args',\n",
              " 'with_traceback']"
            ]
          },
          "metadata": {
            "tags": []
          },
          "execution_count": 7
        }
      ]
    },
    {
      "cell_type": "markdown",
      "metadata": {
        "id": "hcaipS17Gw1I"
      },
      "source": [
        "---"
      ]
    },
    {
      "cell_type": "markdown",
      "metadata": {
        "id": "aLlY0jGkGw1J"
      },
      "source": [
        "### Полезно"
      ]
    },
    {
      "cell_type": "markdown",
      "metadata": {
        "id": "dSyo8vW9Gw1K"
      },
      "source": [
        "- При вызове метода какого-то класса (или функции какого-то модуля) можно написать его имя и через точку нажать **tab**:  \n",
        "\n",
        "<имя\\_объекта\\_класса(модуля)>**.[tab]**  \n",
        "\n",
        "Тогда всплывёт меню, в котором можно выбрать из всех существующих в этом классе методов (функций модуля)."
      ]
    },
    {
      "cell_type": "code",
      "metadata": {
        "id": "oocSKWGhGw1K"
      },
      "source": [
        "__builtin__."
      ],
      "execution_count": null,
      "outputs": []
    },
    {
      "cell_type": "markdown",
      "metadata": {
        "id": "sj4LWvuxGw1P"
      },
      "source": [
        "- Получение быстрой справки (help()) для любого объекта Python:"
      ]
    },
    {
      "cell_type": "code",
      "metadata": {
        "id": "wr0ieLrFGw1Q"
      },
      "source": [
        "?__builtin__"
      ],
      "execution_count": null,
      "outputs": []
    },
    {
      "cell_type": "markdown",
      "metadata": {
        "id": "P7kqThRsGw1S"
      },
      "source": [
        "### Структуры данных и встроенные функции"
      ]
    },
    {
      "cell_type": "markdown",
      "metadata": {
        "id": "e6LOqPpYGw1T"
      },
      "source": [
        "### list"
      ]
    },
    {
      "cell_type": "code",
      "metadata": {
        "id": "pGXNzuLsGw1U"
      },
      "source": [
        "a = list()\n",
        "b = []\n",
        "\n",
        "print(a == b)"
      ],
      "execution_count": null,
      "outputs": []
    },
    {
      "cell_type": "code",
      "metadata": {
        "id": "bj2nfMarGw1Y"
      },
      "source": [
        "my_list = ['string', 100, 5.678, None]\n",
        "my_list"
      ],
      "execution_count": null,
      "outputs": []
    },
    {
      "cell_type": "markdown",
      "metadata": {
        "id": "_0VofYBDGw1Z"
      },
      "source": [
        "* `list(range(start, end[, step]))` - получить последовательность (список) целых чисел, начинающуюся со `start`, заканчивающуюся в `end-1` и шагом `step`"
      ]
    },
    {
      "cell_type": "code",
      "metadata": {
        "id": "9wj-fsL5Gw1a"
      },
      "source": [
        "array = range(1, 10, 2)\n",
        "print(array, '|', type(array))"
      ],
      "execution_count": null,
      "outputs": []
    },
    {
      "cell_type": "code",
      "metadata": {
        "id": "bYJBlGn3Gw1i"
      },
      "source": [
        "array = list(array)\n",
        "print(array, '|', type(array))"
      ],
      "execution_count": null,
      "outputs": []
    },
    {
      "cell_type": "code",
      "metadata": {
        "id": "nJAGzNrMGw1k"
      },
      "source": [
        "array[1]"
      ],
      "execution_count": null,
      "outputs": []
    },
    {
      "cell_type": "code",
      "metadata": {
        "id": "lccw9vyNGw1p"
      },
      "source": [
        "array[-1]"
      ],
      "execution_count": null,
      "outputs": []
    },
    {
      "cell_type": "code",
      "metadata": {
        "id": "Oa7FXqyrGw1r"
      },
      "source": [
        "for i in range(5):\n",
        "    print(i)"
      ],
      "execution_count": null,
      "outputs": []
    },
    {
      "cell_type": "markdown",
      "metadata": {
        "id": "5kWpqBrgGw1t"
      },
      "source": [
        "* Перевернуть список:"
      ]
    },
    {
      "cell_type": "code",
      "metadata": {
        "id": "J0BYX4JXGw1v"
      },
      "source": [
        "array = array[::-1]\n",
        "array"
      ],
      "execution_count": null,
      "outputs": []
    },
    {
      "cell_type": "markdown",
      "metadata": {
        "id": "4VKPt0CwGw1z"
      },
      "source": [
        "* Срезы (`slice`'s) - это объекты языка Python, позволяющие получить какую-то часть итерируемого объекта.  \n",
        "Пример:"
      ]
    },
    {
      "cell_type": "code",
      "metadata": {
        "id": "HBULSoIXGw1z"
      },
      "source": [
        "foo = list(range(10))\n",
        "foo"
      ],
      "execution_count": null,
      "outputs": []
    },
    {
      "cell_type": "code",
      "metadata": {
        "id": "THekTQaHGw11"
      },
      "source": [
        "foo[:5]"
      ],
      "execution_count": null,
      "outputs": []
    },
    {
      "cell_type": "code",
      "metadata": {
        "id": "j642PY8CGw15"
      },
      "source": [
        "foo[5:]"
      ],
      "execution_count": null,
      "outputs": []
    },
    {
      "cell_type": "code",
      "metadata": {
        "id": "zGfCADqAGw17"
      },
      "source": [
        "foo[2:5]"
      ],
      "execution_count": null,
      "outputs": []
    },
    {
      "cell_type": "code",
      "metadata": {
        "id": "k_UVyPZOGw1-"
      },
      "source": [
        "slice_2_5 = slice(2, 5)\n",
        "print(slice_2_5, '|', type(slice_2_5))"
      ],
      "execution_count": null,
      "outputs": []
    },
    {
      "cell_type": "code",
      "metadata": {
        "id": "rrUM9yvEGw2A"
      },
      "source": [
        "foo[slice_2_5]"
      ],
      "execution_count": null,
      "outputs": []
    },
    {
      "cell_type": "markdown",
      "metadata": {
        "id": "mMqdf9s1Gw2D"
      },
      "source": [
        "* `S.join(iterable)` - возвращает строку, которая является конкатенацией строк из `iterable`. Разделитель между строками - строка `S`"
      ]
    },
    {
      "cell_type": "code",
      "metadata": {
        "id": "9FqDIIhfGw2E"
      },
      "source": [
        "str_array = ['a', 'b', 'c', 'd', 'e']"
      ],
      "execution_count": null,
      "outputs": []
    },
    {
      "cell_type": "code",
      "metadata": {
        "id": "hhPsibd6Gw2G"
      },
      "source": [
        "' '.join(str_array)"
      ],
      "execution_count": null,
      "outputs": []
    },
    {
      "cell_type": "code",
      "metadata": {
        "id": "SIUdX4uTGw2I"
      },
      "source": [
        "'!_and_!'.join(str_array)"
      ],
      "execution_count": null,
      "outputs": []
    },
    {
      "cell_type": "markdown",
      "metadata": {
        "id": "4-_DSyd8Gw2K"
      },
      "source": [
        "* Списки можно \"склеивать\":"
      ]
    },
    {
      "cell_type": "code",
      "metadata": {
        "id": "v6LX530dGw2K"
      },
      "source": [
        "a = [1, 2, 3]\n",
        "b = [4, 5, 6]\n",
        "\n",
        "print(a + b)"
      ],
      "execution_count": null,
      "outputs": []
    },
    {
      "cell_type": "markdown",
      "metadata": {
        "id": "n6G2F8ZHGw2O"
      },
      "source": [
        "### Методы класса list"
      ]
    },
    {
      "cell_type": "code",
      "metadata": {
        "id": "lYIDEl_NGw2O"
      },
      "source": [
        "dir(list)"
      ],
      "execution_count": null,
      "outputs": []
    },
    {
      "cell_type": "markdown",
      "metadata": {
        "id": "6eSCqxCeGw2Q"
      },
      "source": [
        "* `L.append(element)` - добавляет элемент `element` в список `L`"
      ]
    },
    {
      "cell_type": "code",
      "metadata": {
        "id": "Jrnu0bDAGw2R"
      },
      "source": [
        "l = [4, 5, 1, 3, 2]\n",
        "\n",
        "l.append('BANG!')\n",
        "l"
      ],
      "execution_count": null,
      "outputs": []
    },
    {
      "cell_type": "markdown",
      "metadata": {
        "id": "rsWorHB2Gw2T"
      },
      "source": [
        "* `sorted(iterable, key)` - возвращает объект, являющийся отсортированной в соответствии с компаратором (по ключу) `key` версией объекта `iterable`. **НЕ изменяет начальный объект!**"
      ]
    },
    {
      "cell_type": "code",
      "metadata": {
        "id": "tTPZWRmGGw2U"
      },
      "source": [
        "print(sorted(l), '|', l)"
      ],
      "execution_count": null,
      "outputs": []
    },
    {
      "cell_type": "code",
      "metadata": {
        "id": "Ccp7jFb2Gw2Y"
      },
      "source": [
        "l.pop()"
      ],
      "execution_count": null,
      "outputs": []
    },
    {
      "cell_type": "code",
      "metadata": {
        "id": "rwsG5uIsGw2c"
      },
      "source": [
        "print(sorted(l), '|', l)"
      ],
      "execution_count": null,
      "outputs": []
    },
    {
      "cell_type": "code",
      "metadata": {
        "id": "e6DfAfEcGw2j"
      },
      "source": [
        "def cmp(string):\n",
        "    return len(string)"
      ],
      "execution_count": null,
      "outputs": []
    },
    {
      "cell_type": "code",
      "metadata": {
        "id": "rcN9rXiiGw2l"
      },
      "source": [
        "names = ['Александр', 'Василий', 'Анастасия', 'Соня', 'Френк', 'Оля']\n",
        "sorted(names, key=cmp)"
      ],
      "execution_count": null,
      "outputs": []
    },
    {
      "cell_type": "code",
      "metadata": {
        "id": "pllKkf23Gw2p"
      },
      "source": [
        "names = ['Александр', 'Василий', 'Анастасия', 'Соня', 'Френк', 'Оля']\n",
        "sorted(names, key=lambda x: len(x))"
      ],
      "execution_count": null,
      "outputs": []
    },
    {
      "cell_type": "code",
      "metadata": {
        "id": "8n55sk6nGw2u"
      },
      "source": [
        "names"
      ],
      "execution_count": null,
      "outputs": []
    },
    {
      "cell_type": "markdown",
      "metadata": {
        "id": "Ci84651GGw2w"
      },
      "source": [
        "* `L.sort(key)` - сортирует лист L в соответствии с компаратором (по ключу) key. **Изменяет начальный объект!**"
      ]
    },
    {
      "cell_type": "code",
      "metadata": {
        "id": "qBtxCB2pGw2x"
      },
      "source": [
        "l = [1, 2, 3, 4, 5]\n",
        "\n",
        "l.append('BANG!')\n",
        "l\n",
        "\n",
        "l.sort()"
      ],
      "execution_count": null,
      "outputs": []
    },
    {
      "cell_type": "code",
      "metadata": {
        "id": "I7Zuo1hgGw2z"
      },
      "source": [
        "l.pop()"
      ],
      "execution_count": null,
      "outputs": []
    },
    {
      "cell_type": "code",
      "metadata": {
        "id": "b0voXsJQGw23"
      },
      "source": [
        "l"
      ],
      "execution_count": null,
      "outputs": []
    },
    {
      "cell_type": "code",
      "metadata": {
        "id": "_skPHJ2IGw25"
      },
      "source": [
        "l.sort(reverse=True)\n",
        "l"
      ],
      "execution_count": null,
      "outputs": []
    },
    {
      "cell_type": "markdown",
      "metadata": {
        "id": "3XbUrbRTGw27"
      },
      "source": [
        "* `L.count(element)` - возвращает количество вхождений элемента `element` в список `L`"
      ]
    },
    {
      "cell_type": "code",
      "metadata": {
        "id": "6HKrl1hRGw29"
      },
      "source": [
        "l.count(1)"
      ],
      "execution_count": null,
      "outputs": []
    },
    {
      "cell_type": "code",
      "metadata": {
        "id": "zk_xk_sMGw3A"
      },
      "source": [
        "l.count('padabum')"
      ],
      "execution_count": null,
      "outputs": []
    },
    {
      "cell_type": "code",
      "metadata": {
        "id": "konkZu60Gw3D"
      },
      "source": [
        "len(l)"
      ],
      "execution_count": null,
      "outputs": []
    },
    {
      "cell_type": "markdown",
      "metadata": {
        "id": "z-1Xw-VsGw3H"
      },
      "source": [
        "`L.index(element)` - возвращает индекс элемента `element` в списке `L`, если он там присутствует, `None` иначе"
      ]
    },
    {
      "cell_type": "code",
      "metadata": {
        "id": "3wzJgl6AGw3I"
      },
      "source": [
        "l.index(3)"
      ],
      "execution_count": null,
      "outputs": []
    },
    {
      "cell_type": "markdown",
      "metadata": {
        "id": "USIIpRQeGw3N"
      },
      "source": [
        "---"
      ]
    },
    {
      "cell_type": "markdown",
      "metadata": {
        "id": "HA7rCsAcGw3O"
      },
      "source": [
        "### Задание 2\n"
      ]
    },
    {
      "cell_type": "markdown",
      "metadata": {
        "id": "5F8N8lYHGw3P"
      },
      "source": [
        "1. Даны два списка одинаковых размеров из одинаковых элементов:  \n",
        "`items = [1 5 6 9 8 7 2 3 4]`  \n",
        "`shuffled_items = [2 3 4 1 6 5 7 9 8]`  \n",
        "\n",
        "2. Расставьте элементы (с помощью функции `sort()`) в списоке `items` так, чтобы получился список `shuffled_items`  "
      ]
    },
    {
      "cell_type": "code",
      "metadata": {
        "id": "cnSSg6bjGw3P",
        "outputId": "ff6c3216-e2cf-4da7-97c8-28516eebfffe"
      },
      "source": [
        "items = [1, 5, 6, 9, 8, 7, 2, 3, 4]\n",
        "shuffled_items = [2, 3, 4, 1, 6, 5, 7, 9, 8]\n",
        "\n",
        "print(sorted(items, key=lambda x: shuffled_items.index(x)))"
      ],
      "execution_count": null,
      "outputs": [
        {
          "output_type": "stream",
          "text": [
            "[2, 3, 4, 1, 6, 5, 7, 9, 8]\n"
          ],
          "name": "stdout"
        }
      ]
    },
    {
      "cell_type": "markdown",
      "metadata": {
        "id": "MXFzodUsGw3s"
      },
      "source": [
        "---"
      ]
    },
    {
      "cell_type": "markdown",
      "metadata": {
        "id": "04VwiGfkGw3t"
      },
      "source": [
        "### Циклы - for и while"
      ]
    },
    {
      "cell_type": "code",
      "metadata": {
        "id": "RGyfjAhGGw3u"
      },
      "source": [
        "models = ['decision tree', 'linear model', 'svm', 'ensemble']\n",
        "\n",
        "for model in models:\n",
        "    print(model)"
      ],
      "execution_count": null,
      "outputs": []
    },
    {
      "cell_type": "code",
      "metadata": {
        "id": "qwWXAn2zGw3v"
      },
      "source": [
        "x = 100\n",
        "\n",
        "while x > 50:\n",
        "    x -= 10\n",
        "    print(x)"
      ],
      "execution_count": null,
      "outputs": []
    },
    {
      "cell_type": "markdown",
      "metadata": {
        "id": "70QerwaDGw3y"
      },
      "source": [
        "### enumerate, zip"
      ]
    },
    {
      "cell_type": "code",
      "metadata": {
        "id": "Ywi776zAGw3y"
      },
      "source": [
        "first = 'a b c d e f g'.split(' ')\n",
        "second = '1 2 3 4 5 6 7'.split(' ')\n",
        "\n",
        "zip(first, second)"
      ],
      "execution_count": null,
      "outputs": []
    },
    {
      "cell_type": "code",
      "metadata": {
        "id": "grtoIeZnGw31"
      },
      "source": [
        "list(zip(first, second))"
      ],
      "execution_count": null,
      "outputs": []
    },
    {
      "cell_type": "code",
      "metadata": {
        "id": "pU1pECP1Gw33"
      },
      "source": [
        "methods = dir(__builtin__)\n",
        "\n",
        "for num, method in enumerate(methods):\n",
        "    if num % 5 == 0:\n",
        "        print(num, method)"
      ],
      "execution_count": null,
      "outputs": []
    },
    {
      "cell_type": "code",
      "metadata": {
        "id": "Ye3s-FKvGw34"
      },
      "source": [
        "enum = enumerate(first)\n",
        "list(enum)"
      ],
      "execution_count": null,
      "outputs": []
    },
    {
      "cell_type": "code",
      "metadata": {
        "id": "9W4TJ9iOGw35"
      },
      "source": [
        "enum = enumerate(first)\n",
        "zip_style = zip(range(0, len(first)), first)\n",
        "\n",
        "print(list(enum) == list(zip_style))"
      ],
      "execution_count": null,
      "outputs": []
    },
    {
      "cell_type": "markdown",
      "metadata": {
        "id": "ZPIwoJneGw37"
      },
      "source": [
        "---\n",
        "\n",
        "### Задание 3\n",
        "\n",
        "1. Создайте список `a`, состоящий из каких-то элементов.\n",
        "2. Создайте список `b` такого же размера, как `a`, состоящий из каких-то элементов.\n",
        "3. Выведите нумерованный список пар из элементов списков `a` и `b`."
      ]
    },
    {
      "cell_type": "code",
      "metadata": {
        "id": "rucloO5QGw37",
        "outputId": "188abbad-dcec-4f32-8e61-950717648df7"
      },
      "source": [
        "a = list(range(10))\n",
        "b = 'a b c d e f g h i j'.split(' ')\n",
        "\n",
        "print(list(enumerate(zip(a, b))))"
      ],
      "execution_count": null,
      "outputs": [
        {
          "output_type": "stream",
          "text": [
            "[(0, (0, 'a')), (1, (1, 'b')), (2, (2, 'c')), (3, (3, 'd')), (4, (4, 'e')), (5, (5, 'f')), (6, (6, 'g')), (7, (7, 'h')), (8, (8, 'i')), (9, (9, 'j'))]\n"
          ],
          "name": "stdout"
        }
      ]
    },
    {
      "cell_type": "markdown",
      "metadata": {
        "id": "MJJxXLh2Gw37"
      },
      "source": [
        "---"
      ]
    },
    {
      "cell_type": "markdown",
      "metadata": {
        "id": "fXwUimADGw38"
      },
      "source": [
        "### list comprehensions"
      ]
    },
    {
      "cell_type": "code",
      "metadata": {
        "id": "CD07ruuWGw38"
      },
      "source": [
        "a = [x for x in range(1, 6)]\n",
        "a"
      ],
      "execution_count": null,
      "outputs": []
    },
    {
      "cell_type": "code",
      "metadata": {
        "id": "BUtpf0EGGw3-"
      },
      "source": [
        "def f(x):\n",
        "    return x ** 2"
      ],
      "execution_count": null,
      "outputs": []
    },
    {
      "cell_type": "code",
      "metadata": {
        "id": "LLz_Z3yTGw4B"
      },
      "source": [
        "b = [f(x) for x in range(1, 10)]\n",
        "c = [x ** 2 for x in range(1, 10)]\n",
        "print(b, '==', c)"
      ],
      "execution_count": null,
      "outputs": []
    },
    {
      "cell_type": "code",
      "metadata": {
        "id": "Y-PG0lZyGw4C"
      },
      "source": [
        "[x if x in 'aeiou' else '*' for x in 'apple']"
      ],
      "execution_count": null,
      "outputs": []
    },
    {
      "cell_type": "code",
      "metadata": {
        "id": "pxaLFok8Gw4E"
      },
      "source": [
        "def foo(i):\n",
        "    return i, i + 1\n",
        "\n",
        "l = []\n",
        "for i in range(3):\n",
        "    for x in foo(i):\n",
        "        l.append(str(x))\n",
        "        \n",
        "l"
      ],
      "execution_count": null,
      "outputs": []
    },
    {
      "cell_type": "code",
      "metadata": {
        "id": "4VIKA8NHGw4G"
      },
      "source": [
        "l = [str(x) for i in range(3) for x in foo(i)]\n",
        "l"
      ],
      "execution_count": null,
      "outputs": []
    },
    {
      "cell_type": "markdown",
      "metadata": {
        "id": "u6xV9d3WGw4I"
      },
      "source": [
        "---"
      ]
    },
    {
      "cell_type": "markdown",
      "metadata": {
        "id": "obbVEyk5Gw4I"
      },
      "source": [
        "### Задание 4"
      ]
    },
    {
      "cell_type": "markdown",
      "metadata": {
        "id": "Px2HOqD9Gw4J"
      },
      "source": [
        "*Выведите* список из 100 чисел *через запятую*. **Чистыми циклами пользоваться нельзя.** (list comprehensions можно)"
      ]
    },
    {
      "cell_type": "code",
      "metadata": {
        "id": "_fBc431DK16p",
        "outputId": "4f295483-4d87-40b4-90e9-1d28d14ab08c"
      },
      "source": [
        "# Идеально\n",
        "nums = list(range(100))\n",
        "', '.join(map(str, nums))"
      ],
      "execution_count": null,
      "outputs": [
        {
          "output_type": "execute_result",
          "data": {
            "text/plain": [
              "'0, 1, 2, 3, 4, 5, 6, 7, 8, 9, 10, 11, 12, 13, 14, 15, 16, 17, 18, 19, 20, 21, 22, 23, 24, 25, 26, 27, 28, 29, 30, 31, 32, 33, 34, 35, 36, 37, 38, 39, 40, 41, 42, 43, 44, 45, 46, 47, 48, 49, 50, 51, 52, 53, 54, 55, 56, 57, 58, 59, 60, 61, 62, 63, 64, 65, 66, 67, 68, 69, 70, 71, 72, 73, 74, 75, 76, 77, 78, 79, 80, 81, 82, 83, 84, 85, 86, 87, 88, 89, 90, 91, 92, 93, 94, 95, 96, 97, 98, 99'"
            ]
          },
          "metadata": {
            "tags": []
          },
          "execution_count": 3
        }
      ]
    },
    {
      "cell_type": "code",
      "metadata": {
        "id": "fN5BeHS3Gw4J",
        "outputId": "5cea1010-ebc2-4758-f9ba-a0aa876ad341"
      },
      "source": [
        "# Чуть хуже, но хотя бы так\n",
        "', '.join([str(i) for i in range(100)])"
      ],
      "execution_count": null,
      "outputs": [
        {
          "output_type": "execute_result",
          "data": {
            "text/plain": [
              "'0, 1, 2, 3, 4, 5, 6, 7, 8, 9, 10, 11, 12, 13, 14, 15, 16, 17, 18, 19, 20, 21, 22, 23, 24, 25, 26, 27, 28, 29, 30, 31, 32, 33, 34, 35, 36, 37, 38, 39, 40, 41, 42, 43, 44, 45, 46, 47, 48, 49, 50, 51, 52, 53, 54, 55, 56, 57, 58, 59, 60, 61, 62, 63, 64, 65, 66, 67, 68, 69, 70, 71, 72, 73, 74, 75, 76, 77, 78, 79, 80, 81, 82, 83, 84, 85, 86, 87, 88, 89, 90, 91, 92, 93, 94, 95, 96, 97, 98, 99'"
            ]
          },
          "metadata": {
            "tags": []
          },
          "execution_count": 4
        }
      ]
    },
    {
      "cell_type": "markdown",
      "metadata": {
        "id": "F9iEYYVWGw4K"
      },
      "source": [
        "---"
      ]
    },
    {
      "cell_type": "markdown",
      "metadata": {
        "id": "354ivCzAGw4L"
      },
      "source": [
        "### functions, lambdas"
      ]
    },
    {
      "cell_type": "markdown",
      "metadata": {
        "id": "x_R-eIDUK16r"
      },
      "source": [
        "* function:"
      ]
    },
    {
      "cell_type": "code",
      "metadata": {
        "id": "wppdwV3AGw4L"
      },
      "source": [
        "def make_coffee(size, sugar_dose=3, **kwargs):\n",
        "    if sugar_dose > 5:\n",
        "        return 'Too much sugar! Be careful! :('\n",
        "    else:\n",
        "        return 'Done: cup of {0} ml size; amount of sugar = {1}'.format(size, sugar_dose)"
      ],
      "execution_count": null,
      "outputs": []
    },
    {
      "cell_type": "code",
      "metadata": {
        "id": "inDy5yYCGw4M"
      },
      "source": [
        "make_coffee(100)"
      ],
      "execution_count": null,
      "outputs": []
    },
    {
      "cell_type": "code",
      "metadata": {
        "id": "bFMvn-vrGw4O"
      },
      "source": [
        "make_coffee(200, 1)"
      ],
      "execution_count": null,
      "outputs": []
    },
    {
      "cell_type": "code",
      "metadata": {
        "id": "zoc4wDmAGw4R"
      },
      "source": [
        "make_coffee(100, 6)"
      ],
      "execution_count": null,
      "outputs": []
    },
    {
      "cell_type": "code",
      "metadata": {
        "id": "1esIuPDaGw4S"
      },
      "source": [
        "make_coffee(120, 5, name='Ilya', gender='male')  # kwargs"
      ],
      "execution_count": null,
      "outputs": []
    },
    {
      "cell_type": "markdown",
      "metadata": {
        "id": "equ2bC4ZK16v"
      },
      "source": [
        "* lambda:"
      ]
    },
    {
      "cell_type": "code",
      "metadata": {
        "id": "6RBIMsgNGw4U"
      },
      "source": [
        "negation = lambda x: -x\n",
        "a = 5\n",
        "print(negation(a))"
      ],
      "execution_count": null,
      "outputs": []
    },
    {
      "cell_type": "markdown",
      "metadata": {
        "id": "HK1TYlFQGw4V"
      },
      "source": [
        "### map, reduce, filter"
      ]
    },
    {
      "cell_type": "markdown",
      "metadata": {
        "id": "w8Vi6DG3Gw4W"
      },
      "source": [
        "* `map(func, iterables)` - выполняет преобразование func над элементами iterables и возвращает **новый** `iterable`:"
      ]
    },
    {
      "cell_type": "code",
      "metadata": {
        "id": "FXvofaljGw4W"
      },
      "source": [
        "words = dir(list)"
      ],
      "execution_count": null,
      "outputs": []
    },
    {
      "cell_type": "code",
      "metadata": {
        "id": "ngRHxS_1Gw4X"
      },
      "source": [
        "letter_counts = list(map(lambda x: len(x), words))\n",
        "\n",
        "print(letter_counts)\n",
        "print()\n",
        "print(words)"
      ],
      "execution_count": null,
      "outputs": []
    },
    {
      "cell_type": "code",
      "metadata": {
        "id": "OgT1pUomGw4X"
      },
      "source": [
        "l1 = [1,2,3,4]\n",
        "l2 = [11, 12, 13, 14, 15]\n",
        "l3 = [101, 102, 103]\n",
        "\n",
        "triple_sum = list(map(lambda x, y, z: x + y + z, l1, l2, l3))\n",
        "print(triple_sum)"
      ],
      "execution_count": null,
      "outputs": []
    },
    {
      "cell_type": "markdown",
      "metadata": {
        "id": "l3yvma4DGw4Y"
      },
      "source": [
        "* `reduce(func, iterables)` - производит вычисление с элементами последовательности, результатом которого является **одно значение**:"
      ]
    },
    {
      "cell_type": "code",
      "metadata": {
        "id": "Ti1K4bsGGw4Y"
      },
      "source": [
        "from functools import reduce"
      ],
      "execution_count": null,
      "outputs": []
    },
    {
      "cell_type": "code",
      "metadata": {
        "id": "DlX_nviwGw4a"
      },
      "source": [
        "sum_of_counts = reduce(lambda x, y: x + y, letter_counts)\n",
        "print(sum_of_counts)"
      ],
      "execution_count": null,
      "outputs": []
    },
    {
      "cell_type": "markdown",
      "metadata": {
        "id": "8nIyNHN1Gw4b"
      },
      "source": [
        "* `filter(predicate, iterable)` - оставляет только те элементы, для которых **верен** предикат (функция, возвращающая bool):"
      ]
    },
    {
      "cell_type": "code",
      "metadata": {
        "id": "LfIPgcNgGw4b"
      },
      "source": [
        "mixed = ['мак', 'просо', 'мак', 'мак', 'просо', 'мак', 'просо', 'просо', 'просо', 'мак']\n",
        "only_mac = list(filter(lambda x: x == 'мак', mixed))\n",
        "print(only_mac)"
      ],
      "execution_count": null,
      "outputs": []
    },
    {
      "cell_type": "markdown",
      "metadata": {
        "id": "g3cWsZwOGw4e"
      },
      "source": [
        "---"
      ]
    },
    {
      "cell_type": "markdown",
      "metadata": {
        "id": "uugRKJebGw4e"
      },
      "source": [
        "### Задание 5\n",
        "\n",
        "1. Дан массив строк: `['agfkd.,f', 'Qksdf;sb&..', 'asdoo*', 'bgf...d', 're54()kj[]].'] `\n",
        "2. Создайте список, состоящий из количества точек в каждой строке. Выведите его\n",
        "3. Создайте новый список, в котором будут **только строки, в которых более 2-х точек**. Выведите его  \n",
        "\n",
        "Циклами пользоваться нельзя."
      ]
    },
    {
      "cell_type": "code",
      "metadata": {
        "id": "3noLimKfGw4e",
        "outputId": "219771bf-d5a1-4918-d309-b07926427e7f"
      },
      "source": [
        "list1 = ['agfkd.,f', 'Qksdf;sb&..', 'asdoo*', 'bgf...d', 're54()kj[]].']\n",
        "\n",
        "list_counts = list(map(lambda x: x.count('.'), list1))\n",
        "print(list_counts)\n",
        "\n",
        "list_only_2_dots = list(filter(lambda x: x.count('.') > 2, list1))\n",
        "print(list_only_2_dots)"
      ],
      "execution_count": null,
      "outputs": [
        {
          "output_type": "stream",
          "text": [
            "[1, 2, 0, 3, 1]\n",
            "['bgf...d']\n"
          ],
          "name": "stdout"
        }
      ]
    },
    {
      "cell_type": "markdown",
      "metadata": {
        "id": "oqHHZkqkGw4f"
      },
      "source": [
        "---"
      ]
    },
    {
      "cell_type": "markdown",
      "metadata": {
        "id": "8f3c96Y3Gw4f"
      },
      "source": [
        "### set"
      ]
    },
    {
      "cell_type": "code",
      "metadata": {
        "id": "7FsYEdL-Gw4f"
      },
      "source": [
        "s = set()\n",
        "s"
      ],
      "execution_count": null,
      "outputs": []
    },
    {
      "cell_type": "code",
      "metadata": {
        "id": "P4VHzWWcGw4j"
      },
      "source": [
        "dir(s)"
      ],
      "execution_count": null,
      "outputs": []
    },
    {
      "cell_type": "code",
      "metadata": {
        "id": "nZ7OwvJoGw4m"
      },
      "source": [
        "s.add(1)\n",
        "s.add('a')\n",
        "s.add(None)\n",
        "s.add('bullet')\n",
        "print(s)"
      ],
      "execution_count": null,
      "outputs": []
    },
    {
      "cell_type": "code",
      "metadata": {
        "id": "xuSORJBVGw4n"
      },
      "source": [
        "s1 = set(range(0, 10))\n",
        "s2 = set(range(5, 15))"
      ],
      "execution_count": null,
      "outputs": []
    },
    {
      "cell_type": "code",
      "metadata": {
        "id": "XHt0SFi3Gw4o"
      },
      "source": [
        "print(s1.difference(s2))\n",
        "print()\n",
        "print(s2.difference(s1))"
      ],
      "execution_count": null,
      "outputs": []
    },
    {
      "cell_type": "code",
      "metadata": {
        "id": "tx1o8_2kGw4p"
      },
      "source": [
        "s1.intersection(s2)"
      ],
      "execution_count": null,
      "outputs": []
    },
    {
      "cell_type": "code",
      "metadata": {
        "id": "SgxbKT7KGw4p"
      },
      "source": [
        "s1.union(s2)"
      ],
      "execution_count": null,
      "outputs": []
    },
    {
      "cell_type": "code",
      "metadata": {
        "id": "CtzRiAgAGw4q"
      },
      "source": [
        "print('s1: ', s1, '\\ns2: ', s2)"
      ],
      "execution_count": null,
      "outputs": []
    },
    {
      "cell_type": "markdown",
      "metadata": {
        "id": "i0xyAzGiGw4s"
      },
      "source": [
        "### dict"
      ]
    },
    {
      "cell_type": "code",
      "metadata": {
        "id": "8mGEtp7BGw4s"
      },
      "source": [
        "d = {}\n",
        "dd = dict()\n",
        "\n",
        "print(d == dd, '|', type(d))"
      ],
      "execution_count": null,
      "outputs": []
    },
    {
      "cell_type": "code",
      "metadata": {
        "id": "b-dGPNI6Gw4t"
      },
      "source": [
        "dir(dict)"
      ],
      "execution_count": null,
      "outputs": []
    },
    {
      "cell_type": "code",
      "metadata": {
        "id": "Tasup1rwGw4w"
      },
      "source": [
        "d['a'] = 100\n",
        "d"
      ],
      "execution_count": null,
      "outputs": []
    },
    {
      "cell_type": "code",
      "metadata": {
        "id": "V4PNtLrtGw4y"
      },
      "source": [
        "d = dict(short='dict', long='dictionary')\n",
        "d"
      ],
      "execution_count": null,
      "outputs": []
    },
    {
      "cell_type": "code",
      "metadata": {
        "id": "SiejuQPWGw41"
      },
      "source": [
        "d = dict([(1, 1), (2, 4)])\n",
        "d"
      ],
      "execution_count": null,
      "outputs": []
    },
    {
      "cell_type": "code",
      "metadata": {
        "id": "hKzBkSEPGw44"
      },
      "source": [
        "d = dict.fromkeys(['a', 'b'])\n",
        "d"
      ],
      "execution_count": null,
      "outputs": []
    },
    {
      "cell_type": "code",
      "metadata": {
        "id": "ul5ln-nHGw46"
      },
      "source": [
        "d = dict.fromkeys(['a', 'b'], 100)\n",
        "d"
      ],
      "execution_count": null,
      "outputs": []
    },
    {
      "cell_type": "markdown",
      "metadata": {
        "id": "YwySNULzGw4_"
      },
      "source": [
        "**dict comprehensions**"
      ]
    },
    {
      "cell_type": "code",
      "metadata": {
        "id": "WYE28ZQcGw4_"
      },
      "source": [
        "d = {a: a ** 2 for a in range(7)}\n",
        "d"
      ],
      "execution_count": null,
      "outputs": []
    },
    {
      "cell_type": "markdown",
      "metadata": {
        "id": "79dYvUBLGw5A"
      },
      "source": [
        "### !"
      ]
    },
    {
      "cell_type": "markdown",
      "metadata": {
        "id": "BacZFsy-Gw5A"
      },
      "source": [
        "Будьте осторожны, если ключа, по которому поступил запрос, нет в словаре, то выбросит исключение:"
      ]
    },
    {
      "cell_type": "code",
      "metadata": {
        "id": "m9Z8UVuHGw5A"
      },
      "source": [
        "d = {1: 100, 2: 200, 3: 300}\n",
        "d['a']"
      ],
      "execution_count": null,
      "outputs": []
    },
    {
      "cell_type": "markdown",
      "metadata": {
        "id": "ldTDId4IGw5B"
      },
      "source": [
        "Поэтому безопаснее использовать **get(key)**. Тогда, если нужно, можно проверить на **None**:"
      ]
    },
    {
      "cell_type": "code",
      "metadata": {
        "id": "-sz0nIsXGw5B"
      },
      "source": [
        "d.get(1)"
      ],
      "execution_count": null,
      "outputs": []
    },
    {
      "cell_type": "code",
      "metadata": {
        "id": "IB7VemHiGw5D"
      },
      "source": [
        "d.get('a') == None"
      ],
      "execution_count": null,
      "outputs": []
    },
    {
      "cell_type": "markdown",
      "metadata": {
        "id": "nU8c9PouGw5E"
      },
      "source": [
        "Самое часто используемое - получение ключей, получение значений и получение всего вместе:"
      ]
    },
    {
      "cell_type": "code",
      "metadata": {
        "id": "_cC8rqn-Gw5E"
      },
      "source": [
        "print(d.keys(), '|', type(d.keys()))\n",
        "\n",
        "\n",
        "print(list(d.keys()))"
      ],
      "execution_count": null,
      "outputs": []
    },
    {
      "cell_type": "code",
      "metadata": {
        "id": "pvh7EPaQGw5E"
      },
      "source": [
        "print(d.values(), '|', type(d.values()))\n",
        "\n",
        "\n",
        "print(list(d.values()))"
      ],
      "execution_count": null,
      "outputs": []
    },
    {
      "cell_type": "code",
      "metadata": {
        "id": "sz6vs1_nGw5F"
      },
      "source": [
        "print(d.items(), '|', type(d.items()))\n",
        "\n",
        "\n",
        "print(list(d.items()))"
      ],
      "execution_count": null,
      "outputs": []
    },
    {
      "cell_type": "markdown",
      "metadata": {
        "id": "-kYdwvhLGw5F"
      },
      "source": [
        "### modules"
      ]
    },
    {
      "cell_type": "markdown",
      "metadata": {
        "id": "i8oVrMMOGw5G"
      },
      "source": [
        "**Модули** - это \"библиотеки\" Python. То есть это самостоятельные, объединённые технически и логически, именованные части Python кода"
      ]
    },
    {
      "cell_type": "markdown",
      "metadata": {
        "id": "8VsaBB8CGw5G"
      },
      "source": [
        "* О модулях необходимо знать только одно - как их импортировать:"
      ]
    },
    {
      "cell_type": "code",
      "metadata": {
        "id": "HyDhkTUYGw5H"
      },
      "source": [
        "import collections"
      ],
      "execution_count": null,
      "outputs": []
    },
    {
      "cell_type": "markdown",
      "metadata": {
        "id": "KCOahn9JGw5H"
      },
      "source": [
        "* Импортировать только какой-то компонент из модуля:"
      ]
    },
    {
      "cell_type": "code",
      "metadata": {
        "id": "GFTwj3EEGw5H"
      },
      "source": [
        "from collections import Counter"
      ],
      "execution_count": null,
      "outputs": []
    },
    {
      "cell_type": "markdown",
      "metadata": {
        "id": "VXFVpvqwGw5I"
      },
      "source": [
        "* Импортировать с другим именем (чаще всего используется для локаничности кода):"
      ]
    },
    {
      "cell_type": "code",
      "metadata": {
        "id": "pDR1RfkAGw5I"
      },
      "source": [
        "import collections as cool_lib"
      ],
      "execution_count": null,
      "outputs": []
    },
    {
      "cell_type": "code",
      "metadata": {
        "id": "NXIY7m_zGw5J"
      },
      "source": [
        "count = cool_lib.Counter()"
      ],
      "execution_count": null,
      "outputs": []
    },
    {
      "cell_type": "markdown",
      "metadata": {
        "id": "YxuJA1qgGw5K"
      },
      "source": [
        "Жизненный пример:"
      ]
    },
    {
      "cell_type": "code",
      "metadata": {
        "id": "db7fca4LGw5K"
      },
      "source": [
        "import numpy as np"
      ],
      "execution_count": null,
      "outputs": []
    },
    {
      "cell_type": "markdown",
      "metadata": {
        "id": "1q8IsL0_Gw5L"
      },
      "source": [
        "### files"
      ]
    },
    {
      "cell_type": "code",
      "metadata": {
        "id": "8ps9pgh_Gw5L"
      },
      "source": [
        "path = './20_newsgroups/sci.space/62478'"
      ],
      "execution_count": null,
      "outputs": []
    },
    {
      "cell_type": "code",
      "metadata": {
        "id": "ivXBlu9EGw5M"
      },
      "source": [
        "file = open(path, mode='r')\n",
        "print([line for line in file][0])\n",
        "file.close()"
      ],
      "execution_count": null,
      "outputs": []
    },
    {
      "cell_type": "markdown",
      "metadata": {
        "id": "FR3dNC56Gw5N"
      },
      "source": [
        "| Режим | Обозначение |\n",
        "|-------|-------------|\n",
        "| **'r'**  | Открытие на **чтение** (является значением по умолчанию) |\n",
        "| **'rb'** | Открытие на **чтение**, в предположении, что будут считываться **байты** |\n",
        "| **'w'** | Открытие на **запись**, содержимое файла удаляется. Если файла не существует, создается новый |\n",
        "| **'wb**' | Открытие на **запись байтов**, содержимое файла удаляется. Если файла не существует, создается новый |\n",
        "| **'a'** | Открытие на **дозапись**, информация добавляется **в конец файла** |\n",
        "| **'r+'** | Открыть файл на **чтение И запись**. Если файла нет, **новый НЕ создаётся** |\n",
        "| **'a+'** | Открыть файл на **чтение И запись в конец файла**. Если файла нет, **новый создаётся** |\n",
        "| **'t'** | Открытие файла **как текстового** (по умолчанию) |"
      ]
    },
    {
      "cell_type": "code",
      "metadata": {
        "id": "NYRCktzbGw5N"
      },
      "source": [
        "with open(path, mode='r') as test_file:\n",
        "    for line in test_file:\n",
        "        print(line)"
      ],
      "execution_count": null,
      "outputs": []
    },
    {
      "cell_type": "markdown",
      "metadata": {
        "id": "Rq1vFhrLGw5O"
      },
      "source": [
        "### classes"
      ]
    },
    {
      "cell_type": "code",
      "metadata": {
        "id": "iqyjT3nEGw5P"
      },
      "source": [
        "class Human:\n",
        "    def __init__(self, name='', age=None, deep_learning_specialist=False):\n",
        "        self.name = name\n",
        "        self.age = age\n",
        "        self.deep_learning_specialist = deep_learning_specialist\n",
        "    \n",
        "    def set_age(self, age):\n",
        "        self.age = age\n",
        "    \n",
        "    def get_age(self):\n",
        "        return self.age\n",
        "    \n",
        "    def __str__(self):\n",
        "        return 'Name: {}\\nAge: {} \\\n",
        "                \\nIs deep learning specialist: {}'.format(self.name, self.age, \n",
        "                                                          self.deep_learning_specialist)\n",
        "\n",
        "class DLSchoolStudent(Human):\n",
        "    def __init__(self, name='', age=None, deep_learning_specialist=False):\n",
        "        super().__init__(name, age, deep_learning_specialist)\n",
        "        self.total_grade = None\n",
        "        self.deep_learning_specialist = True\n",
        "    \n",
        "    def __str__(self):\n",
        "        return super().__str__()"
      ],
      "execution_count": null,
      "outputs": []
    },
    {
      "cell_type": "code",
      "metadata": {
        "id": "7rcUa2c6Gw5Q"
      },
      "source": [
        "human = Human('Person', 17)\n",
        "print(human)"
      ],
      "execution_count": null,
      "outputs": []
    },
    {
      "cell_type": "code",
      "metadata": {
        "id": "ClXD89RBGw5R"
      },
      "source": [
        "student = DLSchoolStudent('Good Person', 18)\n",
        "print(student)"
      ],
      "execution_count": null,
      "outputs": []
    },
    {
      "cell_type": "markdown",
      "metadata": {
        "id": "6leMOqzKGw5R"
      },
      "source": [
        "### exceptions"
      ]
    },
    {
      "cell_type": "code",
      "metadata": {
        "id": "lqdK9vpIGw5R"
      },
      "source": [
        "dir(__builtin__)"
      ],
      "execution_count": null,
      "outputs": []
    },
    {
      "cell_type": "code",
      "metadata": {
        "id": "4fvhuqHWGw5S"
      },
      "source": [
        "raise KeyboardInterrupt()"
      ],
      "execution_count": null,
      "outputs": []
    },
    {
      "cell_type": "code",
      "metadata": {
        "id": "e-ixo9KZGw5T"
      },
      "source": [
        "my_dict = {1: 100, 2: 200}\n",
        "print(my_dict['NEW'])"
      ],
      "execution_count": null,
      "outputs": []
    },
    {
      "cell_type": "code",
      "metadata": {
        "id": "AHvxS46MGw5U"
      },
      "source": [
        "try:\n",
        "    my_dict = {1: 100, 2: 200}\n",
        "    print(my_dict['NEW'])\n",
        "except KeyError:\n",
        "    print('Caught KeyError!')"
      ],
      "execution_count": null,
      "outputs": []
    },
    {
      "cell_type": "markdown",
      "metadata": {
        "id": "eh9SR61aGw5U"
      },
      "source": [
        "### Полезные библиотеки Python"
      ]
    },
    {
      "cell_type": "markdown",
      "metadata": {
        "id": "n8z_sEhyGw5V"
      },
      "source": [
        "### glob"
      ]
    },
    {
      "cell_type": "code",
      "metadata": {
        "id": "5KYnQ6ARGw5V"
      },
      "source": [
        "import glob"
      ],
      "execution_count": null,
      "outputs": []
    },
    {
      "cell_type": "code",
      "metadata": {
        "id": "rtqbatDNGw5W",
        "outputId": "9786d81c-c9ae-4576-adce-1077fa55a106"
      },
      "source": [
        "!dir"
      ],
      "execution_count": null,
      "outputs": [
        {
          "output_type": "stream",
          "text": [
            " Том в устройстве D имеет метку Data\n",
            " Серийный номер тома: FE60-FDAC\n",
            "\n",
            " Содержимое папки D:\\Google Диск\\DATA_SCIENCE\\DLSchool\\Сириус\\materials\\python\\[lesson1]basics\n",
            "\n",
            "07.07.2018  20:51    <DIR>          .\n",
            "07.07.2018  20:51    <DIR>          ..\n",
            "07.07.2018  20:38    <DIR>          .ipynb_checkpoints\n",
            "04.07.2018  01:41    <DIR>          20_newsgroups\n",
            "16.10.2017  00:37           131 745 D.jpg\n",
            "16.10.2017  00:38           220 991 dice.png\n",
            "16.10.2017  00:37           131 745 dl.jpg\n",
            "04.07.2018  01:41    <DIR>          test_data\n",
            "04.07.2018  01:41    <DIR>          train_data\n",
            "07.07.2018  15:30            96 714 [python][1]basics.ipynb\n",
            "07.07.2018  20:51           102 593 [python][1]basics_solved.ipynb\n",
            "               5 файлов        683 788 байт\n",
            "               6 папок  168 090 886 144 байт свободно\n"
          ],
          "name": "stdout"
        }
      ]
    },
    {
      "cell_type": "code",
      "metadata": {
        "id": "-DWVWSFDGw5W"
      },
      "source": [
        "glob.glob('./[0-9].*')"
      ],
      "execution_count": null,
      "outputs": []
    },
    {
      "cell_type": "code",
      "metadata": {
        "id": "ymlN5XWwGw5X"
      },
      "source": [
        "glob.glob('*.png')"
      ],
      "execution_count": null,
      "outputs": []
    },
    {
      "cell_type": "code",
      "metadata": {
        "id": "B9aZ6xpVGw5Y"
      },
      "source": [
        "glob.glob('?.jpg')"
      ],
      "execution_count": null,
      "outputs": []
    },
    {
      "cell_type": "code",
      "metadata": {
        "id": "VnI6S7BSGw5Z"
      },
      "source": [
        "glob.glob('./**/', recursive=True)"
      ],
      "execution_count": null,
      "outputs": []
    },
    {
      "cell_type": "code",
      "metadata": {
        "id": "7cowug2JGw5a"
      },
      "source": [
        "glob.glob('**/*.txt', recursive=True)"
      ],
      "execution_count": null,
      "outputs": []
    },
    {
      "cell_type": "markdown",
      "metadata": {
        "id": "n0KYZdNcGw5b"
      },
      "source": [
        "### tqdm"
      ]
    },
    {
      "cell_type": "markdown",
      "metadata": {
        "id": "YM9NS9PeGw5c"
      },
      "source": [
        "* Устанавливаем виджеты:\n",
        "\n",
        "`pip install ipywidgets`  \n",
        "\n",
        "(или `conda install -c conda-forge ipywidgets`)\n",
        "\n",
        "* Разрешаем их использование в Jupyter Notebook:  \n",
        "\n",
        "`jupyter nbextension enable --py --sys-prefix widgetsnbextension`  \n",
        "\n",
        "* Перезагружаем ядро (Restart Kernel)  \n",
        "\n",
        "\n",
        "* Устанавливаем tqdm:  \n",
        "\n",
        "`pip install tqdm`  \n",
        "\n",
        "(или `conda install -c conda-forge tqdm`)  \n",
        "\n",
        "Больше про tqdm: https://pypi.python.org/pypi/tqdm"
      ]
    },
    {
      "cell_type": "code",
      "metadata": {
        "id": "Gjf3-0CDGw5c"
      },
      "source": [
        "from tqdm import tqdm\n",
        "from tqdm import tnrange, tqdm_notebook\n",
        "from time import sleep"
      ],
      "execution_count": null,
      "outputs": []
    },
    {
      "cell_type": "code",
      "metadata": {
        "id": "a3b80N6rGw5c"
      },
      "source": [
        "cnt = 0\n",
        "for i in tqdm(range(1000)):\n",
        "    sleep(0.01)\n",
        "    cnt += 1"
      ],
      "execution_count": null,
      "outputs": []
    },
    {
      "cell_type": "code",
      "metadata": {
        "id": "bHFdvioAGw5d"
      },
      "source": [
        "for i in tnrange(10, desc='1st loop'):\n",
        "    for j in tqdm_notebook(range(100), desc='2nd loop', leave=False):\n",
        "        sleep(0.01)"
      ],
      "execution_count": null,
      "outputs": []
    },
    {
      "cell_type": "markdown",
      "metadata": {
        "id": "FRMkmKXIGw5d"
      },
      "source": [
        "### collections"
      ]
    },
    {
      "cell_type": "markdown",
      "metadata": {
        "id": "gLqohQ5rGw5f"
      },
      "source": [
        "* `defaultdict()` - класс словаря, у которого есть значение по умолчанию - порой очень пригождается:"
      ]
    },
    {
      "cell_type": "code",
      "metadata": {
        "id": "G39co0rLGw5h"
      },
      "source": [
        "from collections import defaultdict"
      ],
      "execution_count": null,
      "outputs": []
    },
    {
      "cell_type": "code",
      "metadata": {
        "id": "Z-QskRLbGw5i"
      },
      "source": [
        "d = defaultdict(int)\n",
        "\n",
        "print(d['key'])\n",
        "\n",
        "d['key'] = 5\n",
        "print(d['key'])  # 5"
      ],
      "execution_count": null,
      "outputs": []
    },
    {
      "cell_type": "code",
      "metadata": {
        "id": "esQdFR58Gw5j"
      },
      "source": [
        "d = defaultdict(lambda: 'empty')\n",
        "print(d['key'])\n",
        "\n",
        "d['key'] = 'full'\n",
        "print(d['key'])"
      ],
      "execution_count": null,
      "outputs": []
    },
    {
      "cell_type": "code",
      "metadata": {
        "id": "RWMWkplPGw5m"
      },
      "source": [
        "d = defaultdict(list)\n",
        "print(d)\n",
        "\n",
        "d['list1'].append(100)\n",
        "d['list1'].append(200)\n",
        "print(d)\n",
        "print(d['list1'])"
      ],
      "execution_count": null,
      "outputs": []
    },
    {
      "cell_type": "markdown",
      "metadata": {
        "id": "w4XJ967YGw5n"
      },
      "source": [
        "* `Counter()` - класс словаря, предназначенного для счётчиков. По сути, `== defaultdict(int)`:"
      ]
    },
    {
      "cell_type": "code",
      "metadata": {
        "id": "qQ-NZSr8Gw5o"
      },
      "source": [
        "from collections import Counter"
      ],
      "execution_count": null,
      "outputs": []
    },
    {
      "cell_type": "code",
      "metadata": {
        "id": "e1DjIXd1Gw5p",
        "outputId": "366d25f0-256d-40ac-8a1e-cba163e0acd6"
      },
      "source": [
        "counter = Counter()\n",
        "\n",
        "for word in dir(__builtin__):\n",
        "    for letter in word:\n",
        "        counter[letter] += 1  # или .update(value)\n",
        "    \n",
        "print(counter)"
      ],
      "execution_count": null,
      "outputs": [
        {
          "output_type": "stream",
          "text": [
            "Counter({'r': 228, 'o': 139, 'e': 133, 'n': 99, 't': 98, 'i': 85, 'a': 63, 's': 59, 'E': 58, 'c': 48, 'l': 43, 'd': 41, '_': 38, 'p': 37, 'm': 31, 'u': 29, 'g': 21, 'y': 21, 'b': 16, 'I': 14, 'x': 13, 'h': 12, 'W': 12, 'f': 9, 'F': 8, 'v': 8, 'N': 8, 'A': 7, 'P': 7, 'R': 7, 'S': 7, 'U': 7, 'O': 6, 'D': 6, 'T': 6, 'B': 5, 'k': 5, 'C': 5, 'w': 4, 'L': 3, 'K': 2, 'M': 2, 'z': 2, 'G': 1, 'V': 1, 'Z': 1, 'Y': 1, 'H': 1, 'j': 1})\n"
          ],
          "name": "stdout"
        }
      ]
    },
    {
      "cell_type": "markdown",
      "metadata": {
        "id": "AdU2IypUGw5q"
      },
      "source": [
        "---"
      ]
    },
    {
      "cell_type": "markdown",
      "metadata": {
        "id": "EhuZgDRMGw5q"
      },
      "source": [
        "### Задание 6\n",
        "\n",
        "1. Создайте словарь счётчиков\n",
        "2. Создайте переменную, в которую сохраните все пути к нужным текстовым файлам *(расположены по адресу `'./20_newsgroups/sci.space/'`, папка лежит в гугл-доке)*\n",
        "3. Для каждого текста (текстового файла) посчитайте сколько каждое слово (из этого текста) встретилось в этом тексте (используйте предыдущие пункты)"
      ]
    },
    {
      "cell_type": "code",
      "metadata": {
        "id": "R6HLSewSGw5r",
        "outputId": "bb9b6eb9-67af-424c-c375-4d90039d700d"
      },
      "source": [
        "counter = Counter()\n",
        "filenames = glob.glob('./20_newsgroups/sci.space/*')\n",
        "\n",
        "for name in filenames:\n",
        "    with open(name, 'r') as file:\n",
        "        for line in file:\n",
        "            words = line.split(' ')\n",
        "            for word in words:\n",
        "                counter[word] += 1\n",
        "\n",
        "print(counter)"
      ],
      "execution_count": null,
      "outputs": [
        {
          "output_type": "stream",
          "text": [
            "Counter({'the': 52, 'of': 40, 'in': 24, 'to': 21, 'space': 20, 'a': 16, 'that': 16, 'and': 15, 'be': 14, '\\n': 10, 'between': 9, 'is': 7, 'relations': 7, 'are': 7, 'not': 7, 'must': 6, 'an': 5, 'it': 5, 'or': 5, 'as': 5, 'was': 5, 'independently': 5, 'objects': 5, 'relative': 4, 'his': 4, 'there': 4, 'by': 4, 'In': 4, 'spatial': 4, 'no': 4, 'which': 4, 'with': 4, 'could': 4, 'part': 3, 'continues': 3, 'these': 3, 'century,': 3, 'Leibniz,': 3, 'from': 3, 'two': 3, 'than': 3, 'other': 3, 'For': 3, 'therefore': 3, 'exist': 3, 'difference': 3, 'universes': 3, 'since': 3, 'Newton': 3, 'motion': 3, 'bucket': 3, 'surface': 3, 'about': 3, 'boundless': 2, 'position': 2, 'The': 2, 'considered': 2, 'whether': 2, 'on': 2, 'what': 2, 'then': 2, 'any': 2, 'thought': 2, 'collection': 2, 'given': 2, 'one': 2, 'time': 2, 'framework': 2, 'humans': 2, 'all': 2, 'Kant': 2, 'being': 2, 'German': 2, 'set': 2, 'more': 2, 'then,': 2, 'their': 2, 'possible': 2, 'way': 2, 'family': 2, 'argued': 2, 'world': 2, 'for': 2, 'material': 2, 'But': 2, 'would': 2, 'real': 2, 'theory': 2, 'can': 2, 'motion,': 2, 'non-inertial': 2, 'spinning': 2, 'spin,': 2, 'water': 2, 'concave': 2, 'result': 2, 'knowledge': 2, 'Space\\xa0is': 1, 'three-dimensional': 1, 'extent': 1, 'which\\xa0objects\\xa0and': 1, 'events': 1, 'have': 1, 'direction.[1]\\xa0Physical': 1, 'often': 1, 'conceived': 1, 'three\\xa0linear\\xa0dimensions,': 1, 'although': 1, 'modern\\xa0physicists\\xa0usually': 1, 'consider': 1, 'it,': 1, 'with\\xa0time,': 1, 'four-dimensional\\xa0continuum\\xa0known': 1, 'as\\xa0spacetime.': 1, 'concept': 1, 'fundamental': 1, 'importance': 1, 'understanding': 1, 'physical\\xa0universe.': 1, 'However,': 1, 'disagreement': 1, 'between\\xa0philosophers\\xa0over': 1, 'itself': 1, 'entity,': 1, 'relationship': 1, 'entities,': 1, 'a\\xa0conceptual': 1, 'framework.': 1, 'Debates': 1, 'concerning': 1, 'nature,': 1, 'essence': 1, 'mode': 1, 'existence': 1, 'date': 1, 'back': 1, 'antiquity;': 1, 'namely,': 1, 'treatises': 1, 'like': 1, 'the\\xa0Timaeus\\xa0of\\xa0Plato,': 1, 'or\\xa0Socrates\\xa0in': 1, 'reflections': 1, 'Greeks': 1, 'called\\xa0kh?ra\\xa0(i.e.': 1, '\"space\"),': 1, 'the\\xa0Physics\\xa0of\\xa0Aristotle\\xa0(Book': 1, 'IV,': 1, 'Delta)': 1, 'definition': 1, 'of\\xa0topos\\xa0(i.e.': 1, 'place),': 1, 'later': 1, '\"geometrical': 1, 'conception': 1, 'place\"': 1, '\"space\\xa0qua\\xa0extension\"': 1, 'the\\xa0Discourse': 1, 'Place\\xa0(Qawl': 1, 'fi': 1, 'al-Makan)': 1, '11th-century': 1, 'Arab': 1, 'polymath\\xa0Alhazen.[2]\\xa0Many': 1, 'classical': 1, 'philosophical': 1, 'questions': 1, 'were': 1, 'discussed': 1, 'the\\xa0Renaissance\\xa0and': 1, 'reformulated': 1, '17th': 1, 'particularly': 1, 'during': 1, 'early': 1, 'development': 1, 'of\\xa0classical': 1, 'mechanics.': 1, 'In\\xa0Isaac': 1, \"Newton's\": 1, 'view,': 1, 'absolute—in': 1, 'sense': 1, 'existed': 1, 'permanently': 1, 'matter': 1, 'space.[3]\\xa0Other\\xa0natural': 1, 'philosophers,': 1, 'notably\\xa0Gottfried': 1, 'instead': 1, 'fact': 1, 'objects,': 1, 'their\\xa0distance\\xa0and\\xa0direction\\xa0from': 1, 'another.': 1, '18th': 1, 'philosopher': 1, 'theologian\\xa0George': 1, 'Berkeley\\xa0attempted': 1, 'refute': 1, '\"visibility': 1, 'depth\"': 1, 'his\\xa0Essay': 1, 'Towards': 1, 'New': 1, 'Theory': 1, 'Vision.': 1, 'Later,': 1, 'the\\xa0metaphysician\\xa0Immanuel': 1, 'Kant\\xa0said': 1, 'concepts': 1, 'empirical': 1, 'ones': 1, 'derived': 1, 'experiences': 1, 'outside': 1, 'world—they': 1, 'elements': 1, 'already': 1, 'systematic': 1, 'possess': 1, 'use': 1, 'structure': 1, 'experiences.': 1, 'referred': 1, 'experience': 1, '\"space\"': 1, 'his\\xa0Critique': 1, 'Pure': 1, 'Reason\\xa0as': 1, 'subjective': 1, '\"pure\\xa0a': 1, 'priori\\xa0form': 1, 'intuition\".': 1, 'seventeenth': 1, 'the\\xa0philosophy': 1, 'time\\xa0emerged': 1, 'central': 1, 'issue': 1, 'in\\xa0epistemology\\xa0and\\xa0metaphysics.': 1, 'At': 1, 'its': 1, 'heart,\\xa0Gottfried': 1, 'philosopher-mathematician,': 1, 'and\\xa0Isaac': 1, 'Newton,': 1, 'English': 1, 'physicist-mathematician,': 1, 'out': 1, 'opposing': 1, 'theories': 1, 'is.': 1, 'Rather': 1, 'entity': 1, 'exists': 1, 'over': 1, 'above': 1, 'matter,': 1, 'Leibniz': 1, 'held': 1, 'world:': 1, '\"space': 1, 'results': 1, 'places': 1, 'taken': 1, 'together\".[5]\\xa0Unoccupied': 1, 'regions': 1, 'those': 1, 'that\\xa0could\\xa0have': 1, 'them,': 1, 'thus': 1, 'places.': 1, 'idealised\\xa0abstraction\\xa0from': 1, 'individual': 1, 'entities': 1, 'locations': 1, 'be\\xa0continuous\\xa0but': 1, 'be\\xa0discrete.[6]\\xa0Space': 1, 'similar': 1, 'members.': 1, 'Although': 1, 'people': 1, 'related': 1, 'another,': 1, 'do': 1, 'people.[7]\\xa0Leibniz': 1, 'because': 1, 'implies': 1, 'exactly': 1, 'alike': 1, 'except': 1, 'location': 1, 'each': 1, 'universe.': 1, 'observational': 1, 'telling': 1, 'apart': 1, 'according': 1, 'the\\xa0identity': 1, 'indiscernibles,': 1, 'them.': 1, 'According': 1, 'the\\xa0principle': 1, 'sufficient': 1, 'reason,': 1, 'implied': 1, 'wrong.[8]': 1, 'took': 1, 'based': 1, 'on\\xa0observation\\xa0and\\xa0experimentation.': 1, 'a\\xa0relationist\\xa0there': 1, 'between\\xa0inertial': 1, 'object': 1, 'travels': 1, 'constant\\xa0velocity,': 1, 'and\\xa0non-inertial': 1, 'velocity': 1, 'changes': 1, 'time,': 1, 'measurements': 1, 'motions.': 1, 'generates\\xa0forces,': 1, 'absolute.[9]\\xa0He': 1, 'used': 1, 'example': 1, 'of\\xa0water': 1, 'bucket\\xa0to': 1, 'demonstrate': 1, 'argument.\\xa0Water\\xa0in': 1, 'a\\xa0bucket\\xa0is': 1, 'hung': 1, 'rope': 1, 'starts': 1, 'flat': 1, 'surface.': 1, 'After': 1, 'while,': 1, 'becomes': 1, 'concave.': 1, 'If': 1, \"bucket's\": 1, 'stopped': 1, 'remains': 1, 'spin.': 1, 'apparently': 1, 'water.[10]Instead,': 1, 'argued,': 1, 'itself.': 1, 'several': 1, 'centuries': 1, 'argument': 1, 'decisive': 1, 'showing': 1, 'matter.': 1, 'eighteenth': 1, 'century': 1, 'philosopher\\xa0Immanuel': 1, 'Kant\\xa0developed': 1, 'of\\xa0knowledge\\xa0in': 1, 'both\\xa0a': 1, 'priori\\xa0and\\xa0synthetic.\\xa0According': 1, 'Kant,': 1, 'is\\xa0synthetic,': 1, 'statements': 1, 'simply': 1, 'true': 1, 'virtue': 1, 'meaning': 1, 'words': 1, 'statement.': 1, 'work,': 1, 'rejected': 1, 'view': 1, 'either': 1, 'substance': 1, 'relation.': 1, 'Instead': 1, 'he': 1, 'came': 1, 'conclusion': 1, 'discovered': 1, 'objective': 1, 'features': 1, 'world,': 1, 'but': 1, 'imposed': 1, 'us': 1, 'organizing': 1, 'experience.': 1})\n"
          ],
          "name": "stdout"
        }
      ]
    },
    {
      "cell_type": "code",
      "metadata": {
        "id": "LjxJpDlkK17t",
        "outputId": "57b9d308-75ab-4bea-985a-a4a343858d92"
      },
      "source": [
        "!dir"
      ],
      "execution_count": null,
      "outputs": [
        {
          "output_type": "stream",
          "text": [
            " Том в устройстве D имеет метку Data\n",
            " Серийный номер тома: FE60-FDAC\n",
            "\n",
            " Содержимое папки D:\\Google Диск\\DATA_SCIENCE\\DLSchool\\Сириус\\materials\\python\\[lesson1]basics\n",
            "\n",
            "07.07.2018  20:58    <DIR>          .\n",
            "07.07.2018  20:58    <DIR>          ..\n",
            "07.07.2018  20:38    <DIR>          .ipynb_checkpoints\n",
            "04.07.2018  01:41    <DIR>          20_newsgroups\n",
            "16.10.2017  00:37           131 745 D.jpg\n",
            "16.10.2017  00:38           220 991 dice.png\n",
            "16.10.2017  00:37           131 745 dl.jpg\n",
            "04.07.2018  01:41    <DIR>          test_data\n",
            "04.07.2018  01:41    <DIR>          train_data\n",
            "07.07.2018  15:30            96 714 [python][1]basics.ipynb\n",
            "07.07.2018  20:58           104 255 [python][1]basics_solved.ipynb\n",
            "               5 файлов        685 450 байт\n",
            "               6 папок  168 090 886 144 байт свободно\n"
          ],
          "name": "stdout"
        }
      ]
    },
    {
      "cell_type": "markdown",
      "metadata": {
        "id": "HN5aManjGw5r"
      },
      "source": [
        "---"
      ]
    },
    {
      "cell_type": "markdown",
      "metadata": {
        "id": "UjW3DsbRGw5s"
      },
      "source": [
        "То, что Вы реализовали выше, есть ни что иное, как простая реализация **bag-of-words (мешок слов)** для корпуса из 9 документов."
      ]
    },
    {
      "cell_type": "markdown",
      "metadata": {
        "id": "9SiyR08jK17u"
      },
      "source": [
        "Мы познакомились языком Python. Дальше нас ждёт знакомство с библиотеками **NumPy, SciPy** и **Matplotlib**, часто используемыми в анализе данных.  "
      ]
    },
    {
      "cell_type": "markdown",
      "metadata": {
        "id": "dZWe7o1yGw5s"
      },
      "source": [
        "## Список материалов для самостоятельного изучения"
      ]
    },
    {
      "cell_type": "markdown",
      "metadata": {
        "id": "scLkWzB7Gw5s"
      },
      "source": [
        "* *Сайт языка Python* - https://www.python.org/"
      ]
    },
    {
      "cell_type": "markdown",
      "metadata": {
        "id": "5sid19J1Gw5s"
      },
      "source": [
        "* *Курс Python с нуля, можно выполнять задания в интерактивном режиме* - http://pythontutor.ru/"
      ]
    },
    {
      "cell_type": "markdown",
      "metadata": {
        "id": "d3VWwzy-Gw5t"
      },
      "source": [
        "* *Новый онлайн-курс по Питону на Coursera от Mail.Ru Group* - https://www.coursera.org/learn/programming-in-python"
      ]
    },
    {
      "cell_type": "markdown",
      "metadata": {
        "id": "hUkTs8N5Gw5t"
      },
      "source": [
        "* *Самоучитель Python* - https://pythonworld.ru/samouchitel-python"
      ]
    },
    {
      "cell_type": "markdown",
      "metadata": {
        "id": "THosV0wvGw5t"
      },
      "source": [
        "* *Статья про коварности Python* - https://habrahabr.ru/company/mailru/blog/337364/"
      ]
    },
    {
      "cell_type": "markdown",
      "metadata": {
        "id": "clIKUWycGw5t"
      },
      "source": [
        "* *Очень полезные трюки в Jupyter Notebook*: https://www.dataquest.io/blog/jupyter-notebook-tips-tricks-shortcuts/"
      ]
    },
    {
      "cell_type": "markdown",
      "metadata": {
        "id": "Ob-UgrOdK17v"
      },
      "source": [
        "## Домашнее задание №1"
      ]
    },
    {
      "cell_type": "markdown",
      "metadata": {
        "id": "JgzvEpUtK17v"
      },
      "source": [
        "- Всем прорешать этот ноутбук (сделать все  6 заданий)\n",
        "- Для тех, кто только начал знакомиться с Python: 2 ссылка выше - сделать как можно больше заданий \n",
        "- Для тех, кто \"я уже всё знаю (наверное)\": 5 и 6 ссылки выше (познакомиться с jupyter notebook, если не владеете)  \n",
        "- Для тех, кто \"я уже точно всё знаю про Python\": пора идти работать Python-разработчиком"
      ]
    },
    {
      "cell_type": "code",
      "metadata": {
        "id": "cDzBDT6vzivf"
      },
      "source": [],
      "execution_count": null,
      "outputs": []
    }
  ]
}